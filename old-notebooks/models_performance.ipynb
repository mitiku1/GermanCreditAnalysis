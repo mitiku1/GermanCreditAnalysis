{
 "cells": [
  {
   "cell_type": "code",
   "execution_count": 198,
   "metadata": {},
   "outputs": [],
   "source": [
    "import pandas as pd\n",
    "import numpy as np\n",
    "import matplotlib.pyplot as plt\n",
    "cmap = plt.cm.tab10\n",
    "\n",
    "from sklearn.model_selection import train_test_split\n",
    "from sklearn.neural_network import MLPClassifier\n",
    "from sklearn.neighbors import KNeighborsClassifier\n",
    "from sklearn.svm import SVC\n",
    "from sklearn.gaussian_process import GaussianProcessClassifier\n",
    "from sklearn.gaussian_process.kernels import RBF\n",
    "from sklearn.tree import DecisionTreeClassifier\n",
    "from sklearn.ensemble import RandomForestClassifier, AdaBoostClassifier\n",
    "from sklearn.naive_bayes import GaussianNB\n",
    "from sklearn.discriminant_analysis import QuadraticDiscriminantAnalysis\n",
    "from sklearn.linear_model import LogisticRegression\n",
    "from sklearn.ensemble import GradientBoostingClassifier, ExtraTreesClassifier\n",
    "\n",
    "from sklearn.model_selection import GridSearchCV\n",
    "\n",
    "from sklearn.decomposition import PCA\n",
    "\n",
    "\n",
    "from sklearn.preprocessing import StandardScaler\n",
    "\n",
    "from sklearn.metrics import precision_recall_curve\n",
    "from sklearn.metrics import f1_score\n",
    "from sklearn.metrics import auc\n",
    "from sklearn.metrics import roc_curve\n",
    "from sklearn.metrics import roc_auc_score\n",
    "from imblearn.over_sampling import SMOTE "
   ]
  },
  {
   "cell_type": "code",
   "execution_count": 199,
   "metadata": {},
   "outputs": [],
   "source": [
    "data = pd.read_csv(\"../dataset/german_credit_data_withrisk.csv\", index_col=0)"
   ]
  },
  {
   "cell_type": "code",
   "execution_count": 200,
   "metadata": {},
   "outputs": [],
   "source": [
    "num_impute = \"mean\" # One of [\"mean\", \"zero\", \"infinity\"]\n",
    "cat_impute = \"mode\" # One of [\"mode\", \"none\"]\n",
    "random_state = 42"
   ]
  },
  {
   "cell_type": "code",
   "execution_count": 201,
   "metadata": {},
   "outputs": [],
   "source": [
    "job_index2word = {\n",
    "    0: \"unskilled and non-resident\", \n",
    "    1: \"unskilled and resident\", \n",
    "    2: \"skilled\", \n",
    "    3: \"highly skilled\"\n",
    "}\n",
    "def assign_job_type(col):\n",
    "    return job_index2word[col]"
   ]
  },
  {
   "cell_type": "code",
   "execution_count": 202,
   "metadata": {},
   "outputs": [],
   "source": [
    "data.Job = data.Job.apply(assign_job_type)"
   ]
  },
  {
   "cell_type": "code",
   "execution_count": 203,
   "metadata": {},
   "outputs": [],
   "source": [
    "cat_cols = ['Sex', 'Job', 'Housing', 'Saving accounts', 'Checking account', 'Purpose']\n",
    "num_cols = ['Age', 'Credit amount', 'Duration']"
   ]
  },
  {
   "cell_type": "code",
   "execution_count": 204,
   "metadata": {},
   "outputs": [],
   "source": [
    "def impute_with_mean(df):\n",
    "    out = pd.DataFrame(df)\n",
    "    for col in df.columns:\n",
    "        if col in num_cols:\n",
    "            out.loc[out[col].isna(), col] = df[col].mean()\n",
    "    return out\n",
    "def impute_with_zero(df):\n",
    "    out = pd.DataFrame(df)\n",
    "    for col in df.columns:\n",
    "        if col in num_cols:\n",
    "            out.loc[out[col].isna(), col] = 0.0\n",
    "    return out\n",
    "\n",
    "\n",
    "def impute_with_infinity(df):\n",
    "    out = pd.DataFrame(df)\n",
    "    for col in df.columns:\n",
    "        if col in num_cols:\n",
    "            out.loc[out[col].isna(), col] = float(\"inf\")\n",
    "    return out\n",
    "def impute_with_mode(df):\n",
    "    out = pd.DataFrame(df)\n",
    "    for col in df.columns:\n",
    "        if col in cat_cols:\n",
    "            out.loc[out[col].isna(), col] = df[col].mode().iat[0]\n",
    "    return out\n",
    "def impute_with_none(df):\n",
    "    out = pd.DataFrame(df)\n",
    "    for col in df.columns:\n",
    "        if col in cat_cols:\n",
    "            out.loc[out[col].isna(), col] = \"None\"\n",
    "    return out"
   ]
  },
  {
   "cell_type": "code",
   "execution_count": 205,
   "metadata": {},
   "outputs": [],
   "source": [
    "def get_impute_function(name):\n",
    "    assert name in [\"mean\", \"zero\", \"infinity\", \"mode\", \"none\"]\n",
    "    if name == \"mean\":\n",
    "        return impute_with_mean\n",
    "    elif name == \"zero\":\n",
    "        return impute_with_zero\n",
    "    elif name == \"infinity\":\n",
    "        return impute_with_infinity\n",
    "    elif name == \"mode\":\n",
    "        return impute_with_mode\n",
    "    else:\n",
    "        return impute_with_none"
   ]
  },
  {
   "cell_type": "code",
   "execution_count": 206,
   "metadata": {},
   "outputs": [],
   "source": [
    "def impute_missing_values(df, num_impute, cat_impute):\n",
    "    num_impute_function = get_impute_function(num_impute)\n",
    "    cat_impute_function = get_impute_function(cat_impute)\n",
    "    new_df = num_impute_function(df)\n",
    "    new_df = cat_impute_function(df)\n",
    "    return new_df"
   ]
  },
  {
   "cell_type": "code",
   "execution_count": 207,
   "metadata": {},
   "outputs": [
    {
     "data": {
      "text/plain": [
       "Age                   0\n",
       "Sex                   0\n",
       "Job                   0\n",
       "Housing               0\n",
       "Saving accounts     183\n",
       "Checking account    394\n",
       "Credit amount         0\n",
       "Duration              0\n",
       "Purpose               0\n",
       "Risk                  0\n",
       "dtype: int64"
      ]
     },
     "execution_count": 207,
     "metadata": {},
     "output_type": "execute_result"
    }
   ],
   "source": [
    "data.isna().sum()"
   ]
  },
  {
   "cell_type": "code",
   "execution_count": 208,
   "metadata": {},
   "outputs": [],
   "source": [
    "data = impute_missing_values(data, num_impute, cat_impute)"
   ]
  },
  {
   "cell_type": "code",
   "execution_count": 209,
   "metadata": {},
   "outputs": [
    {
     "data": {
      "text/plain": [
       "Age                 0\n",
       "Sex                 0\n",
       "Job                 0\n",
       "Housing             0\n",
       "Saving accounts     0\n",
       "Checking account    0\n",
       "Credit amount       0\n",
       "Duration            0\n",
       "Purpose             0\n",
       "Risk                0\n",
       "dtype: int64"
      ]
     },
     "execution_count": 209,
     "metadata": {},
     "output_type": "execute_result"
    }
   ],
   "source": [
    "data.isna().sum()"
   ]
  },
  {
   "cell_type": "code",
   "execution_count": 210,
   "metadata": {},
   "outputs": [
    {
     "data": {
      "text/plain": [
       "700"
      ]
     },
     "execution_count": 210,
     "metadata": {},
     "output_type": "execute_result"
    }
   ],
   "source": [
    "(data.Risk == \"good\").sum()"
   ]
  },
  {
   "cell_type": "code",
   "execution_count": 211,
   "metadata": {},
   "outputs": [
    {
     "data": {
      "text/plain": [
       "300"
      ]
     },
     "execution_count": 211,
     "metadata": {},
     "output_type": "execute_result"
    }
   ],
   "source": [
    "(data.Risk == \"bad\").sum()"
   ]
  },
  {
   "cell_type": "code",
   "execution_count": 212,
   "metadata": {},
   "outputs": [],
   "source": [
    "def cat2onehot(df):\n",
    "    output = df.copy()\n",
    "    for col in cat_cols:\n",
    "        dummies = pd.get_dummies(df[col], drop_first=True)\n",
    "        output = pd.concat([dummies, output], axis=1)\n",
    "        output.drop(col, axis=1, inplace=True)\n",
    "    return output"
   ]
  },
  {
   "cell_type": "code",
   "execution_count": 213,
   "metadata": {},
   "outputs": [],
   "source": [
    "data = cat2onehot(data)"
   ]
  },
  {
   "cell_type": "code",
   "execution_count": 214,
   "metadata": {},
   "outputs": [
    {
     "data": {
      "text/plain": [
       "Index(['car', 'domestic appliances', 'education', 'furniture/equipment',\n",
       "       'radio/TV', 'repairs', 'vacation/others', 'moderate', 'rich',\n",
       "       'moderate', 'quite rich', 'rich', 'own', 'rent', 'skilled',\n",
       "       'unskilled and non-resident', 'unskilled and resident', 'male', 'Age',\n",
       "       'Credit amount', 'Duration', 'Risk'],\n",
       "      dtype='object')"
      ]
     },
     "execution_count": 214,
     "metadata": {},
     "output_type": "execute_result"
    }
   ],
   "source": [
    "data.columns"
   ]
  },
  {
   "cell_type": "code",
   "execution_count": null,
   "metadata": {},
   "outputs": [],
   "source": []
  },
  {
   "cell_type": "code",
   "execution_count": 215,
   "metadata": {},
   "outputs": [],
   "source": [
    "sm = SMOTE(random_state=42)\n"
   ]
  },
  {
   "cell_type": "code",
   "execution_count": 216,
   "metadata": {},
   "outputs": [],
   "source": [
    "def normalize_numeric(df, num_cols):\n",
    "    scalers = {}\n",
    "    for col in num_cols:\n",
    "        scaler = StandardScaler()\n",
    "        df[col] = scaler.fit_transform(df[col].values.reshape(-1,1))\n",
    "        scalers[col] = scaler\n",
    "    return df, scalers"
   ]
  },
  {
   "cell_type": "code",
   "execution_count": 217,
   "metadata": {},
   "outputs": [],
   "source": [
    "data, scalers = normalize_numeric(data, num_cols)"
   ]
  },
  {
   "cell_type": "code",
   "execution_count": 218,
   "metadata": {},
   "outputs": [
    {
     "data": {
      "text/plain": [
       "5.329070518200751e-17"
      ]
     },
     "execution_count": 218,
     "metadata": {},
     "output_type": "execute_result"
    }
   ],
   "source": [
    "data[\"Age\"].mean()"
   ]
  },
  {
   "cell_type": "code",
   "execution_count": 219,
   "metadata": {},
   "outputs": [
    {
     "data": {
      "text/plain": [
       "1.0005003753127737"
      ]
     },
     "execution_count": 219,
     "metadata": {},
     "output_type": "execute_result"
    }
   ],
   "source": [
    "data[\"Age\"].std()"
   ]
  },
  {
   "cell_type": "code",
   "execution_count": 220,
   "metadata": {},
   "outputs": [],
   "source": [
    "X = data[data.columns[:-1]].values\n",
    "y = data[data.columns[-1]].values"
   ]
  },
  {
   "cell_type": "code",
   "execution_count": 221,
   "metadata": {},
   "outputs": [],
   "source": [
    "train_x, test_x, train_y, test_y = train_test_split(X, y, test_size = 0.2, stratify=y, random_state = random_state)"
   ]
  },
  {
   "cell_type": "code",
   "execution_count": 222,
   "metadata": {},
   "outputs": [],
   "source": [
    "train_x, train_y = sm.fit_resample(train_x, train_y)"
   ]
  },
  {
   "cell_type": "code",
   "execution_count": 223,
   "metadata": {},
   "outputs": [],
   "source": [
    "def evaluate(model, X, y):\n",
    "    y_pred = model.predict(X)\n",
    "    correct = (y == y_pred).astype(np.float32)\n",
    "    return correct.mean()"
   ]
  },
  {
   "cell_type": "code",
   "execution_count": 224,
   "metadata": {},
   "outputs": [],
   "source": [
    "names = [\n",
    "#         \"Nearest Neighbors\", \n",
    "#          \"RBF SVM\",\n",
    "#          \"Gaussian Process\",\n",
    "         \"Decision Tree\", \n",
    "         \"Random Forest\", \n",
    "         \"Neural Net\", \n",
    "         \"AdaBoost\",\n",
    "#          \"Naive Bayes\", \n",
    "#          \"QDA\", \n",
    "         \"Logistic Regression\",\n",
    "         \"Gradient Boosting\",\n",
    "         \"Extra Trees\"\n",
    "        ]\n",
    "\n",
    "classifiers = [\n",
    "#     KNeighborsClassifier(3),\n",
    "#     SVC(gamma=2, C=0.25, probability=True),\n",
    "#     GaussianProcessClassifier(1.0 * RBF(1.0)),\n",
    "    DecisionTreeClassifier(max_depth=5),\n",
    "    RandomForestClassifier(max_depth=5, n_estimators=10, max_features=1),\n",
    "    MLPClassifier(alpha=1, max_iter=1000),\n",
    "    AdaBoostClassifier(),\n",
    "#     GaussianNB(),\n",
    "#     QuadraticDiscriminantAnalysis(),\n",
    "    LogisticRegression(),\n",
    "    GradientBoostingClassifier(),\n",
    "    ExtraTreesClassifier()\n",
    "\n",
    "]"
   ]
  },
  {
   "cell_type": "code",
   "execution_count": 225,
   "metadata": {},
   "outputs": [
    {
     "data": {
      "text/html": [
       "<div>\n",
       "<style scoped>\n",
       "    .dataframe tbody tr th:only-of-type {\n",
       "        vertical-align: middle;\n",
       "    }\n",
       "\n",
       "    .dataframe tbody tr th {\n",
       "        vertical-align: top;\n",
       "    }\n",
       "\n",
       "    .dataframe thead th {\n",
       "        text-align: right;\n",
       "    }\n",
       "</style>\n",
       "<table border=\"1\" class=\"dataframe\">\n",
       "  <thead>\n",
       "    <tr style=\"text-align: right;\">\n",
       "      <th></th>\n",
       "      <th>car</th>\n",
       "      <th>domestic appliances</th>\n",
       "      <th>education</th>\n",
       "      <th>furniture/equipment</th>\n",
       "      <th>radio/TV</th>\n",
       "      <th>repairs</th>\n",
       "      <th>vacation/others</th>\n",
       "      <th>moderate</th>\n",
       "      <th>rich</th>\n",
       "      <th>moderate</th>\n",
       "      <th>...</th>\n",
       "      <th>own</th>\n",
       "      <th>rent</th>\n",
       "      <th>skilled</th>\n",
       "      <th>unskilled and non-resident</th>\n",
       "      <th>unskilled and resident</th>\n",
       "      <th>male</th>\n",
       "      <th>Age</th>\n",
       "      <th>Credit amount</th>\n",
       "      <th>Duration</th>\n",
       "      <th>Risk</th>\n",
       "    </tr>\n",
       "  </thead>\n",
       "  <tbody>\n",
       "    <tr>\n",
       "      <th>0</th>\n",
       "      <td>0</td>\n",
       "      <td>0</td>\n",
       "      <td>0</td>\n",
       "      <td>0</td>\n",
       "      <td>1</td>\n",
       "      <td>0</td>\n",
       "      <td>0</td>\n",
       "      <td>0</td>\n",
       "      <td>0</td>\n",
       "      <td>0</td>\n",
       "      <td>...</td>\n",
       "      <td>1</td>\n",
       "      <td>0</td>\n",
       "      <td>1</td>\n",
       "      <td>0</td>\n",
       "      <td>0</td>\n",
       "      <td>1</td>\n",
       "      <td>2.766456</td>\n",
       "      <td>-0.745131</td>\n",
       "      <td>-1.236478</td>\n",
       "      <td>good</td>\n",
       "    </tr>\n",
       "    <tr>\n",
       "      <th>1</th>\n",
       "      <td>0</td>\n",
       "      <td>0</td>\n",
       "      <td>0</td>\n",
       "      <td>0</td>\n",
       "      <td>1</td>\n",
       "      <td>0</td>\n",
       "      <td>0</td>\n",
       "      <td>1</td>\n",
       "      <td>0</td>\n",
       "      <td>0</td>\n",
       "      <td>...</td>\n",
       "      <td>1</td>\n",
       "      <td>0</td>\n",
       "      <td>1</td>\n",
       "      <td>0</td>\n",
       "      <td>0</td>\n",
       "      <td>0</td>\n",
       "      <td>-1.191404</td>\n",
       "      <td>0.949817</td>\n",
       "      <td>2.248194</td>\n",
       "      <td>bad</td>\n",
       "    </tr>\n",
       "    <tr>\n",
       "      <th>2</th>\n",
       "      <td>0</td>\n",
       "      <td>0</td>\n",
       "      <td>1</td>\n",
       "      <td>0</td>\n",
       "      <td>0</td>\n",
       "      <td>0</td>\n",
       "      <td>0</td>\n",
       "      <td>0</td>\n",
       "      <td>0</td>\n",
       "      <td>0</td>\n",
       "      <td>...</td>\n",
       "      <td>1</td>\n",
       "      <td>0</td>\n",
       "      <td>0</td>\n",
       "      <td>0</td>\n",
       "      <td>1</td>\n",
       "      <td>1</td>\n",
       "      <td>1.183312</td>\n",
       "      <td>-0.416562</td>\n",
       "      <td>-0.738668</td>\n",
       "      <td>good</td>\n",
       "    </tr>\n",
       "    <tr>\n",
       "      <th>3</th>\n",
       "      <td>0</td>\n",
       "      <td>0</td>\n",
       "      <td>0</td>\n",
       "      <td>1</td>\n",
       "      <td>0</td>\n",
       "      <td>0</td>\n",
       "      <td>0</td>\n",
       "      <td>0</td>\n",
       "      <td>0</td>\n",
       "      <td>0</td>\n",
       "      <td>...</td>\n",
       "      <td>0</td>\n",
       "      <td>0</td>\n",
       "      <td>1</td>\n",
       "      <td>0</td>\n",
       "      <td>0</td>\n",
       "      <td>1</td>\n",
       "      <td>0.831502</td>\n",
       "      <td>1.634247</td>\n",
       "      <td>1.750384</td>\n",
       "      <td>good</td>\n",
       "    </tr>\n",
       "    <tr>\n",
       "      <th>4</th>\n",
       "      <td>1</td>\n",
       "      <td>0</td>\n",
       "      <td>0</td>\n",
       "      <td>0</td>\n",
       "      <td>0</td>\n",
       "      <td>0</td>\n",
       "      <td>0</td>\n",
       "      <td>0</td>\n",
       "      <td>0</td>\n",
       "      <td>0</td>\n",
       "      <td>...</td>\n",
       "      <td>0</td>\n",
       "      <td>0</td>\n",
       "      <td>1</td>\n",
       "      <td>0</td>\n",
       "      <td>0</td>\n",
       "      <td>1</td>\n",
       "      <td>1.535122</td>\n",
       "      <td>0.566664</td>\n",
       "      <td>0.256953</td>\n",
       "      <td>bad</td>\n",
       "    </tr>\n",
       "  </tbody>\n",
       "</table>\n",
       "<p>5 rows × 22 columns</p>\n",
       "</div>"
      ],
      "text/plain": [
       "   car  domestic appliances  education  furniture/equipment  radio/TV  \\\n",
       "0    0                    0          0                    0         1   \n",
       "1    0                    0          0                    0         1   \n",
       "2    0                    0          1                    0         0   \n",
       "3    0                    0          0                    1         0   \n",
       "4    1                    0          0                    0         0   \n",
       "\n",
       "   repairs  vacation/others  moderate  rich  moderate  ...  own  rent  \\\n",
       "0        0                0         0     0         0  ...    1     0   \n",
       "1        0                0         1     0         0  ...    1     0   \n",
       "2        0                0         0     0         0  ...    1     0   \n",
       "3        0                0         0     0         0  ...    0     0   \n",
       "4        0                0         0     0         0  ...    0     0   \n",
       "\n",
       "   skilled  unskilled and non-resident  unskilled and resident  male  \\\n",
       "0        1                           0                       0     1   \n",
       "1        1                           0                       0     0   \n",
       "2        0                           0                       1     1   \n",
       "3        1                           0                       0     1   \n",
       "4        1                           0                       0     1   \n",
       "\n",
       "        Age  Credit amount  Duration  Risk  \n",
       "0  2.766456      -0.745131 -1.236478  good  \n",
       "1 -1.191404       0.949817  2.248194   bad  \n",
       "2  1.183312      -0.416562 -0.738668  good  \n",
       "3  0.831502       1.634247  1.750384  good  \n",
       "4  1.535122       0.566664  0.256953   bad  \n",
       "\n",
       "[5 rows x 22 columns]"
      ]
     },
     "execution_count": 225,
     "metadata": {},
     "output_type": "execute_result"
    }
   ],
   "source": [
    "data.head()"
   ]
  },
  {
   "cell_type": "code",
   "execution_count": null,
   "metadata": {},
   "outputs": [],
   "source": []
  },
  {
   "cell_type": "code",
   "execution_count": 226,
   "metadata": {},
   "outputs": [
    {
     "name": "stdout",
     "output_type": "stream",
     "text": [
      "Decision Tree accuracy\n",
      "\t\t- train:\t 73.48% \n",
      "\t\t- test:  \t 64.50%\n",
      "Random Forest accuracy\n",
      "\t\t- train:\t 71.61% \n",
      "\t\t- test:  \t 63.50%\n",
      "Neural Net accuracy\n",
      "\t\t- train:\t 77.95% \n",
      "\t\t- test:  \t 65.00%\n",
      "AdaBoost accuracy\n",
      "\t\t- train:\t 74.73% \n",
      "\t\t- test:  \t 64.50%\n",
      "Logistic Regression accuracy\n",
      "\t\t- train:\t 67.05% \n",
      "\t\t- test:  \t 65.00%\n",
      "Gradient Boosting accuracy\n",
      "\t\t- train:\t 86.70% \n",
      "\t\t- test:  \t 68.50%\n",
      "Extra Trees accuracy\n",
      "\t\t- train:\t 100.00% \n",
      "\t\t- test:  \t 69.00%\n"
     ]
    }
   ],
   "source": [
    "classifiers = {names[i]:classifiers[i] for i in range(len(names))}\n",
    "for classifier_name in classifiers:\n",
    "    classifier = classifiers[classifier_name]\n",
    "    classifier.fit(train_x, train_y)\n",
    "    train_acc = evaluate(classifier, train_x, train_y)\n",
    "    test_acc = evaluate(classifier, test_x, test_y)\n",
    "    print(\"{} accuracy\\n\\t\\t- train:\\t {:.2f}% \\n\\t\\t- test:  \\t {:.2f}%\".format(classifier_name, train_acc * 100, test_acc * 100))"
   ]
  },
  {
   "cell_type": "code",
   "execution_count": 227,
   "metadata": {},
   "outputs": [
    {
     "data": {
      "image/png": "[encoded data removed]",
      "text/plain": [
       "<Figure size 720x720 with 1 Axes>"
      ]
     },
     "metadata": {
      "needs_background": "light"
     },
     "output_type": "display_data"
    }
   ],
   "source": [
    "plt.figure(figsize=(10, 10))\n",
    "plt.title(\"ROC curve\".format(classifier_name))\n",
    "for classifier_name in classifiers:\n",
    "  \n",
    "    classifier = classifiers[classifier_name]\n",
    "    \n",
    "    lr_probs = classifier.predict_proba(test_x)\n",
    "    lr_probs = lr_probs[:, 1]\n",
    "    lr_fpr, lr_tpr, _ = roc_curve(test_y==\"good\", lr_probs)\n",
    "    a = auc(lr_fpr, lr_tpr)\n",
    "    plt.plot(lr_fpr, lr_tpr, marker='.', label=classifier_name+\"-auc= {:.2f}%\".format(a * 100))\n",
    "plt.xlabel('False Positive Rate')\n",
    "plt.ylabel('True Positive Rate')\n",
    "plt.legend()\n",
    "plt.show()\n",
    "   "
   ]
  },
  {
   "cell_type": "code",
   "execution_count": 228,
   "metadata": {},
   "outputs": [],
   "source": [
    "train_preds = dict()\n",
    "\n",
    "for classfier_name in classifiers:\n",
    "    train_preds[classfier_name] = classifiers[classfier_name].predict(train_x)\n"
   ]
  },
  {
   "cell_type": "code",
   "execution_count": 229,
   "metadata": {},
   "outputs": [
    {
     "data": {
      "text/html": [
       "<div>\n",
       "<style scoped>\n",
       "    .dataframe tbody tr th:only-of-type {\n",
       "        vertical-align: middle;\n",
       "    }\n",
       "\n",
       "    .dataframe tbody tr th {\n",
       "        vertical-align: top;\n",
       "    }\n",
       "\n",
       "    .dataframe thead th {\n",
       "        text-align: right;\n",
       "    }\n",
       "</style>\n",
       "<table border=\"1\" class=\"dataframe\">\n",
       "  <thead>\n",
       "    <tr style=\"text-align: right;\">\n",
       "      <th></th>\n",
       "      <th>Decision Tree</th>\n",
       "      <th>Random Forest</th>\n",
       "      <th>Neural Net</th>\n",
       "      <th>AdaBoost</th>\n",
       "      <th>Logistic Regression</th>\n",
       "      <th>Gradient Boosting</th>\n",
       "      <th>Extra Trees</th>\n",
       "    </tr>\n",
       "  </thead>\n",
       "  <tbody>\n",
       "    <tr>\n",
       "      <th>0</th>\n",
       "      <td>good</td>\n",
       "      <td>bad</td>\n",
       "      <td>good</td>\n",
       "      <td>good</td>\n",
       "      <td>bad</td>\n",
       "      <td>good</td>\n",
       "      <td>good</td>\n",
       "    </tr>\n",
       "    <tr>\n",
       "      <th>1</th>\n",
       "      <td>bad</td>\n",
       "      <td>good</td>\n",
       "      <td>good</td>\n",
       "      <td>good</td>\n",
       "      <td>bad</td>\n",
       "      <td>good</td>\n",
       "      <td>good</td>\n",
       "    </tr>\n",
       "    <tr>\n",
       "      <th>2</th>\n",
       "      <td>bad</td>\n",
       "      <td>bad</td>\n",
       "      <td>good</td>\n",
       "      <td>bad</td>\n",
       "      <td>bad</td>\n",
       "      <td>bad</td>\n",
       "      <td>good</td>\n",
       "    </tr>\n",
       "    <tr>\n",
       "      <th>3</th>\n",
       "      <td>bad</td>\n",
       "      <td>bad</td>\n",
       "      <td>bad</td>\n",
       "      <td>bad</td>\n",
       "      <td>bad</td>\n",
       "      <td>good</td>\n",
       "      <td>good</td>\n",
       "    </tr>\n",
       "    <tr>\n",
       "      <th>4</th>\n",
       "      <td>good</td>\n",
       "      <td>bad</td>\n",
       "      <td>good</td>\n",
       "      <td>good</td>\n",
       "      <td>good</td>\n",
       "      <td>good</td>\n",
       "      <td>good</td>\n",
       "    </tr>\n",
       "  </tbody>\n",
       "</table>\n",
       "</div>"
      ],
      "text/plain": [
       "  Decision Tree Random Forest Neural Net AdaBoost Logistic Regression  \\\n",
       "0          good           bad       good     good                 bad   \n",
       "1           bad          good       good     good                 bad   \n",
       "2           bad           bad       good      bad                 bad   \n",
       "3           bad           bad        bad      bad                 bad   \n",
       "4          good           bad       good     good                good   \n",
       "\n",
       "  Gradient Boosting Extra Trees  \n",
       "0              good        good  \n",
       "1              good        good  \n",
       "2               bad        good  \n",
       "3              good        good  \n",
       "4              good        good  "
      ]
     },
     "execution_count": 229,
     "metadata": {},
     "output_type": "execute_result"
    }
   ],
   "source": [
    "train_preds_df = pd.DataFrame(train_preds)\n",
    "train_preds_df.head()"
   ]
  },
  {
   "cell_type": "code",
   "execution_count": null,
   "metadata": {},
   "outputs": [],
   "source": []
  },
  {
   "cell_type": "code",
   "execution_count": 230,
   "metadata": {},
   "outputs": [],
   "source": [
    "val_preds = dict()\n",
    "\n",
    "for classfier_name in classifiers:\n",
    "    val_preds[classfier_name] = classifiers[classfier_name].predict(test_x)\n"
   ]
  },
  {
   "cell_type": "code",
   "execution_count": 231,
   "metadata": {},
   "outputs": [
    {
     "data": {
      "text/html": [
       "<div>\n",
       "<style scoped>\n",
       "    .dataframe tbody tr th:only-of-type {\n",
       "        vertical-align: middle;\n",
       "    }\n",
       "\n",
       "    .dataframe tbody tr th {\n",
       "        vertical-align: top;\n",
       "    }\n",
       "\n",
       "    .dataframe thead th {\n",
       "        text-align: right;\n",
       "    }\n",
       "</style>\n",
       "<table border=\"1\" class=\"dataframe\">\n",
       "  <thead>\n",
       "    <tr style=\"text-align: right;\">\n",
       "      <th></th>\n",
       "      <th>Decision Tree</th>\n",
       "      <th>Random Forest</th>\n",
       "      <th>Neural Net</th>\n",
       "      <th>AdaBoost</th>\n",
       "      <th>Logistic Regression</th>\n",
       "      <th>Gradient Boosting</th>\n",
       "      <th>Extra Trees</th>\n",
       "    </tr>\n",
       "  </thead>\n",
       "  <tbody>\n",
       "    <tr>\n",
       "      <th>0</th>\n",
       "      <td>bad</td>\n",
       "      <td>bad</td>\n",
       "      <td>good</td>\n",
       "      <td>bad</td>\n",
       "      <td>bad</td>\n",
       "      <td>good</td>\n",
       "      <td>good</td>\n",
       "    </tr>\n",
       "    <tr>\n",
       "      <th>1</th>\n",
       "      <td>bad</td>\n",
       "      <td>bad</td>\n",
       "      <td>bad</td>\n",
       "      <td>bad</td>\n",
       "      <td>bad</td>\n",
       "      <td>bad</td>\n",
       "      <td>bad</td>\n",
       "    </tr>\n",
       "    <tr>\n",
       "      <th>2</th>\n",
       "      <td>good</td>\n",
       "      <td>bad</td>\n",
       "      <td>bad</td>\n",
       "      <td>bad</td>\n",
       "      <td>bad</td>\n",
       "      <td>bad</td>\n",
       "      <td>bad</td>\n",
       "    </tr>\n",
       "    <tr>\n",
       "      <th>3</th>\n",
       "      <td>good</td>\n",
       "      <td>good</td>\n",
       "      <td>good</td>\n",
       "      <td>good</td>\n",
       "      <td>good</td>\n",
       "      <td>good</td>\n",
       "      <td>good</td>\n",
       "    </tr>\n",
       "    <tr>\n",
       "      <th>4</th>\n",
       "      <td>bad</td>\n",
       "      <td>bad</td>\n",
       "      <td>bad</td>\n",
       "      <td>bad</td>\n",
       "      <td>bad</td>\n",
       "      <td>bad</td>\n",
       "      <td>good</td>\n",
       "    </tr>\n",
       "  </tbody>\n",
       "</table>\n",
       "</div>"
      ],
      "text/plain": [
       "  Decision Tree Random Forest Neural Net AdaBoost Logistic Regression  \\\n",
       "0           bad           bad       good      bad                 bad   \n",
       "1           bad           bad        bad      bad                 bad   \n",
       "2          good           bad        bad      bad                 bad   \n",
       "3          good          good       good     good                good   \n",
       "4           bad           bad        bad      bad                 bad   \n",
       "\n",
       "  Gradient Boosting Extra Trees  \n",
       "0              good        good  \n",
       "1               bad         bad  \n",
       "2               bad         bad  \n",
       "3              good        good  \n",
       "4               bad        good  "
      ]
     },
     "execution_count": 231,
     "metadata": {},
     "output_type": "execute_result"
    }
   ],
   "source": [
    "val_preds_df = pd.DataFrame(val_preds)\n",
    "val_preds_df.head()"
   ]
  },
  {
   "cell_type": "code",
   "execution_count": 232,
   "metadata": {},
   "outputs": [],
   "source": [
    "new_train_x = (train_preds_df.values == \"good\").astype(float)\n",
    "new_test_x = (val_preds_df.values == \"good\").astype(float)"
   ]
  },
  {
   "cell_type": "code",
   "execution_count": null,
   "metadata": {},
   "outputs": [],
   "source": []
  },
  {
   "cell_type": "code",
   "execution_count": 233,
   "metadata": {},
   "outputs": [],
   "source": [
    "train_y  = (train_y==\"good\").astype(float)\n",
    "test_y  = (test_y==\"good\").astype(float)"
   ]
  },
  {
   "cell_type": "code",
   "execution_count": 234,
   "metadata": {},
   "outputs": [],
   "source": [
    "import tensorflow as tf"
   ]
  },
  {
   "cell_type": "code",
   "execution_count": 235,
   "metadata": {},
   "outputs": [],
   "source": [
    "layers = tf.keras.layers"
   ]
  },
  {
   "cell_type": "code",
   "execution_count": 249,
   "metadata": {},
   "outputs": [],
   "source": [
    "model = tf.keras.Sequential(\n",
    "[\n",
    "    layers.Dropout(0.5),\n",
    "    layers.Dense(32, activation=tf.keras.activations.elu, kernel_regularizer=\"l2\"),\n",
    "#     layers.BatchNormalization(),\n",
    "#     layers.Dense(64, activation=tf.keras.activations.elu, kernel_regularizer=\"l1\"),\n",
    "    layers.Dense(1, activation=\"sigmoid\", kernel_regularizer=\"l1\")\n",
    "]\n",
    ")"
   ]
  },
  {
   "cell_type": "code",
   "execution_count": 250,
   "metadata": {},
   "outputs": [],
   "source": [
    "model.compile(loss=\"binary_crossentropy\", optimizer=tf.keras.optimizers.Adam(lr=1e-4), metrics=[\"accuracy\"])"
   ]
  },
  {
   "cell_type": "code",
   "execution_count": 251,
   "metadata": {},
   "outputs": [],
   "source": [
    "mcp_save = tf.keras.callbacks.ModelCheckpoint('best-model.h5', save_weights_only=True, save_best_only=True, monitor='val_accuracy', mode=\"auto\")\n"
   ]
  },
  {
   "cell_type": "code",
   "execution_count": 252,
   "metadata": {},
   "outputs": [
    {
     "name": "stdout",
     "output_type": "stream",
     "text": [
      "Epoch 1/20\n",
      "35/35 [==============================] - 1s 22ms/step - loss: 0.9224 - accuracy: 0.4045 - val_loss: 0.9048 - val_accuracy: 0.3550\n",
      "Epoch 2/20\n",
      "35/35 [==============================] - 0s 6ms/step - loss: 0.8955 - accuracy: 0.3562 - val_loss: 0.8746 - val_accuracy: 0.3600\n",
      "Epoch 3/20\n",
      "35/35 [==============================] - 0s 6ms/step - loss: 0.8680 - accuracy: 0.6232 - val_loss: 0.8504 - val_accuracy: 0.6100\n",
      "Epoch 4/20\n",
      "35/35 [==============================] - 0s 5ms/step - loss: 0.8498 - accuracy: 0.6777 - val_loss: 0.8305 - val_accuracy: 0.6600\n",
      "Epoch 5/20\n",
      "35/35 [==============================] - 0s 5ms/step - loss: 0.8276 - accuracy: 0.7232 - val_loss: 0.8143 - val_accuracy: 0.6900\n",
      "Epoch 6/20\n",
      "35/35 [==============================] - 0s 6ms/step - loss: 0.8079 - accuracy: 0.7723 - val_loss: 0.8006 - val_accuracy: 0.7000\n",
      "Epoch 7/20\n",
      "35/35 [==============================] - 0s 7ms/step - loss: 0.7953 - accuracy: 0.7688 - val_loss: 0.7893 - val_accuracy: 0.7050\n",
      "Epoch 8/20\n",
      "35/35 [==============================] - 0s 8ms/step - loss: 0.7842 - accuracy: 0.7812 - val_loss: 0.7806 - val_accuracy: 0.7150\n",
      "Epoch 9/20\n",
      "35/35 [==============================] - 0s 12ms/step - loss: 0.7729 - accuracy: 0.7750 - val_loss: 0.7729 - val_accuracy: 0.7150\n",
      "Epoch 10/20\n",
      "35/35 [==============================] - 1s 16ms/step - loss: 0.7638 - accuracy: 0.7902 - val_loss: 0.7662 - val_accuracy: 0.7150\n",
      "Epoch 11/20\n",
      "35/35 [==============================] - 0s 9ms/step - loss: 0.7532 - accuracy: 0.7964 - val_loss: 0.7614 - val_accuracy: 0.7150\n",
      "Epoch 12/20\n",
      "35/35 [==============================] - 0s 7ms/step - loss: 0.7460 - accuracy: 0.7866 - val_loss: 0.7568 - val_accuracy: 0.7150\n",
      "Epoch 13/20\n",
      "35/35 [==============================] - 0s 8ms/step - loss: 0.7360 - accuracy: 0.8125 - val_loss: 0.7518 - val_accuracy: 0.7150\n",
      "Epoch 14/20\n",
      "35/35 [==============================] - 0s 12ms/step - loss: 0.7252 - accuracy: 0.8036 - val_loss: 0.7484 - val_accuracy: 0.7200\n",
      "Epoch 15/20\n",
      "35/35 [==============================] - 0s 6ms/step - loss: 0.7201 - accuracy: 0.8027 - val_loss: 0.7450 - val_accuracy: 0.7200\n",
      "Epoch 16/20\n",
      "35/35 [==============================] - 0s 6ms/step - loss: 0.7124 - accuracy: 0.8071 - val_loss: 0.7421 - val_accuracy: 0.7200\n",
      "Epoch 17/20\n",
      "35/35 [==============================] - 0s 6ms/step - loss: 0.7061 - accuracy: 0.8116 - val_loss: 0.7399 - val_accuracy: 0.7200\n",
      "Epoch 18/20\n",
      "35/35 [==============================] - 0s 13ms/step - loss: 0.6984 - accuracy: 0.7982 - val_loss: 0.7384 - val_accuracy: 0.7200\n",
      "Epoch 19/20\n",
      "35/35 [==============================] - 0s 8ms/step - loss: 0.6931 - accuracy: 0.7937 - val_loss: 0.7369 - val_accuracy: 0.7150\n",
      "Epoch 20/20\n",
      "35/35 [==============================] - 0s 8ms/step - loss: 0.6932 - accuracy: 0.8027 - val_loss: 0.7343 - val_accuracy: 0.7150\n"
     ]
    },
    {
     "data": {
      "text/plain": [
       "<tensorflow.python.keras.callbacks.History at 0x7ff6d8639c50>"
      ]
     },
     "execution_count": 252,
     "metadata": {},
     "output_type": "execute_result"
    }
   ],
   "source": [
    "model.fit(new_train_x, train_y,  validation_data=(new_test_x, test_y), epochs=20 , callbacks=[mcp_save])"
   ]
  },
  {
   "cell_type": "code",
   "execution_count": 253,
   "metadata": {},
   "outputs": [],
   "source": [
    "model.load_weights(\"best-model.h5\")"
   ]
  },
  {
   "cell_type": "code",
   "execution_count": 254,
   "metadata": {},
   "outputs": [
    {
     "data": {
      "image/png": "[encoded data removed]",
      "text/plain": [
       "<Figure size 720x720 with 1 Axes>"
      ]
     },
     "metadata": {
      "needs_background": "light"
     },
     "output_type": "display_data"
    }
   ],
   "source": [
    "plt.figure(figsize=(10, 10))\n",
    "plt.title(\"Tensorflow ROC curve\".format(classifier_name))\n",
    "\n",
    "    \n",
    "lr_probs = model.predict(new_test_x)\n",
    "# lr_probs = lr_probs[:, 1]\n",
    "lr_fpr, lr_tpr, _ = roc_curve(test_y, lr_probs)\n",
    "a = auc(lr_fpr, lr_tpr)\n",
    "plt.plot(lr_fpr, lr_tpr, marker='.', label=\"keras-model-auc= {:.2f}%\".format(a * 100))\n",
    "plt.xlabel('False Positive Rate')\n",
    "plt.ylabel('True Positive Rate')\n",
    "plt.legend()\n",
    "plt.show()\n",
    "   "
   ]
  },
  {
   "cell_type": "code",
   "execution_count": 248,
   "metadata": {},
   "outputs": [
    {
     "name": "stdout",
     "output_type": "stream",
     "text": [
      " best-model.h5                    NormalizingNumericalFeatures.ipynb\r\n",
      " Check2Datasets.ipynb             PrimaryAnalysis.ipynb\r\n",
      "'Data Qualitity Analysis.ipynb'   sklearn_models_performance.ipynb\r\n",
      "'German Credit Analysis.ipynb'    Tensorflow-Models.ipynb\r\n",
      " ImportanceAnalysis.ipynb         Tf-Onehot.ipynb\r\n",
      " insights.ipynb                   Untitled.ipynb\r\n"
     ]
    }
   ],
   "source": [
    "ls"
   ]
  },
  {
   "cell_type": "code",
   "execution_count": 255,
   "metadata": {},
   "outputs": [],
   "source": [
    "model.save(\"best-model.hdf5\")"
   ]
  },
  {
   "cell_type": "code",
   "execution_count": 259,
   "metadata": {},
   "outputs": [],
   "source": [
    "import pickle"
   ]
  },
  {
   "cell_type": "code",
   "execution_count": 262,
   "metadata": {},
   "outputs": [],
   "source": [
    "with open(\"scalers.json\", \"wb\") as output_file:\n",
    "    pickle.dump(scalers, output_file)"
   ]
  },
  {
   "cell_type": "code",
   "execution_count": 263,
   "metadata": {},
   "outputs": [],
   "source": [
    "with open(\"scalers.json\", \"rb\") as output_file:\n",
    "    new_scalers = pickle.load(output_file)"
   ]
  },
  {
   "cell_type": "code",
   "execution_count": 264,
   "metadata": {},
   "outputs": [
    {
     "data": {
      "text/plain": [
       "array([35.546])"
      ]
     },
     "execution_count": 264,
     "metadata": {},
     "output_type": "execute_result"
    }
   ],
   "source": [
    "new_scalers[\"Age\"].mean_"
   ]
  },
  {
   "cell_type": "code",
   "execution_count": 266,
   "metadata": {},
   "outputs": [
    {
     "data": {
      "text/plain": [
       "array([35.546])"
      ]
     },
     "execution_count": 266,
     "metadata": {},
     "output_type": "execute_result"
    }
   ],
   "source": [
    "scalers[\"Age\"].mean_"
   ]
  },
  {
   "cell_type": "code",
   "execution_count": 267,
   "metadata": {},
   "outputs": [
    {
     "data": {
      "text/plain": [
       "{'Decision Tree': DecisionTreeClassifier(max_depth=5),\n",
       " 'Random Forest': RandomForestClassifier(max_depth=5, max_features=1, n_estimators=10),\n",
       " 'Neural Net': MLPClassifier(alpha=1, max_iter=1000),\n",
       " 'AdaBoost': AdaBoostClassifier(),\n",
       " 'Logistic Regression': LogisticRegression(),\n",
       " 'Gradient Boosting': GradientBoostingClassifier(),\n",
       " 'Extra Trees': ExtraTreesClassifier()}"
      ]
     },
     "execution_count": 267,
     "metadata": {},
     "output_type": "execute_result"
    }
   ],
   "source": [
    "classifiers"
   ]
  },
  {
   "cell_type": "code",
   "execution_count": 268,
   "metadata": {},
   "outputs": [],
   "source": [
    "with open(\"sk-learners.json\", \"wb\") as output_file:\n",
    "    pickle.dump(classifiers, output_file)"
   ]
  },
  {
   "cell_type": "code",
   "execution_count": null,
   "metadata": {},
   "outputs": [],
   "source": []
  }
 ],
 "metadata": {
  "kernelspec": {
   "display_name": "Python [conda env:tesf-env] *",
   "language": "python",
   "name": "conda-env-tesf-env-py"
  },
  "language_info": {
   "codemirror_mode": {
    "name": "ipython",
    "version": 3
   },
   "file_extension": ".py",
   "mimetype": "text/x-python",
   "name": "python",
   "nbconvert_exporter": "python",
   "pygments_lexer": "ipython3",
   "version": "3.6.12"
  }
 },
 "nbformat": 4,
 "nbformat_minor": 4
}
