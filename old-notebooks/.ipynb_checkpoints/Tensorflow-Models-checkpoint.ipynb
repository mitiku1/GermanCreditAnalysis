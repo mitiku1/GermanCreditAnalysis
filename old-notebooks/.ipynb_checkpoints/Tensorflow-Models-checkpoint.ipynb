{
 "cells": [
  {
   "cell_type": "code",
   "execution_count": 4,
   "metadata": {},
   "outputs": [],
   "source": [
    "import pandas as pd\n",
    "import numpy as np\n",
    "import matplotlib.pyplot as plt\n",
    "cmap = plt.cm.tab10\n",
    "\n",
    "from sklearn.model_selection import train_test_split\n",
    "\n",
    "\n",
    "from sklearn.metrics import precision_recall_curve\n",
    "from sklearn.metrics import f1_score\n",
    "from sklearn.metrics import auc\n",
    "from sklearn.metrics import roc_curve\n",
    "from sklearn.metrics import roc_auc_score\n",
    "import tensorflow as tf\n",
    "tf.keras.backend.set_floatx('float64')"
   ]
  },
  {
   "cell_type": "code",
   "execution_count": 5,
   "metadata": {},
   "outputs": [],
   "source": [
    "data = pd.read_csv(\"../dataset/german_credit_data_withrisk.csv\", index_col=0)"
   ]
  },
  {
   "cell_type": "code",
   "execution_count": 6,
   "metadata": {},
   "outputs": [],
   "source": [
    "for col in data.columns:\n",
    "    new_col = col.replace(\" \", \"_\")\n",
    "    if col != new_col:\n",
    "        data[new_col] = data[col]\n",
    "        del data[col]\n",
    "    "
   ]
  },
  {
   "cell_type": "code",
   "execution_count": 7,
   "metadata": {},
   "outputs": [],
   "source": [
    "num_impute = \"mean\" # One of [\"mean\", \"zero\", \"infinity\"]\n",
    "cat_impute = \"mode\" # One of [\"mode\", \"none\"]\n",
    "random_state = 42"
   ]
  },
  {
   "cell_type": "code",
   "execution_count": 8,
   "metadata": {},
   "outputs": [],
   "source": [
    "job_index2word = {\n",
    "    0: \"unskilled and non-resident\", \n",
    "    1: \"unskilled and resident\", \n",
    "    2: \"skilled\", \n",
    "    3: \"highly skilled\"\n",
    "}\n",
    "def assign_job_type(col):\n",
    "    return job_index2word[col]"
   ]
  },
  {
   "cell_type": "code",
   "execution_count": 9,
   "metadata": {},
   "outputs": [],
   "source": [
    "data.Job = data.Job.apply(assign_job_type)"
   ]
  },
  {
   "cell_type": "code",
   "execution_count": 10,
   "metadata": {},
   "outputs": [],
   "source": [
    "cat_cols = ['Sex', 'Job', 'Housing', 'Saving_accounts', 'Checking_account', 'Purpose']\n",
    "num_cols = ['Age', 'Credit_amount', 'Duration']"
   ]
  },
  {
   "cell_type": "code",
   "execution_count": 11,
   "metadata": {},
   "outputs": [],
   "source": [
    "def impute_with_mean(df):\n",
    "    out = pd.DataFrame(df)\n",
    "    for col in df.columns:\n",
    "        if col in num_cols:\n",
    "            out.loc[out[col].isna(), col] = df[col].mean()\n",
    "    return out\n",
    "def impute_with_zero(df):\n",
    "    out = pd.DataFrame(df)\n",
    "    for col in df.columns:\n",
    "        if col in num_cols:\n",
    "            out.loc[out[col].isna(), col] = 0.0\n",
    "    return out\n",
    "\n",
    "\n",
    "def impute_with_infinity(df):\n",
    "    out = pd.DataFrame(df)\n",
    "    for col in df.columns:\n",
    "        if col in num_cols:\n",
    "            out.loc[out[col].isna(), col] = float(\"inf\")\n",
    "    return out\n",
    "def impute_with_mode(df):\n",
    "    out = pd.DataFrame(df)\n",
    "    for col in df.columns:\n",
    "        if col in cat_cols:\n",
    "            out.loc[out[col].isna(), col] = df[col].mode().iat[0]\n",
    "    return out\n",
    "def impute_with_none(df):\n",
    "    out = pd.DataFrame(df)\n",
    "    for col in df.columns:\n",
    "        if col in cat_cols:\n",
    "            out.loc[out[col].isna(), col] = \"None\"\n",
    "    return out"
   ]
  },
  {
   "cell_type": "code",
   "execution_count": 12,
   "metadata": {},
   "outputs": [],
   "source": [
    "def get_impute_function(name):\n",
    "    assert name in [\"mean\", \"zero\", \"infinity\", \"mode\", \"none\"]\n",
    "    if name == \"mean\":\n",
    "        return impute_with_mean\n",
    "    elif name == \"zero\":\n",
    "        return impute_with_zero\n",
    "    elif name == \"infinity\":\n",
    "        return impute_with_infinity\n",
    "    elif name == \"mode\":\n",
    "        return impute_with_mode\n",
    "    else:\n",
    "        return impute_with_none"
   ]
  },
  {
   "cell_type": "code",
   "execution_count": 13,
   "metadata": {},
   "outputs": [],
   "source": [
    "def impute_missing_values(df, num_impute, cat_impute):\n",
    "    num_impute_function = get_impute_function(num_impute)\n",
    "    cat_impute_function = get_impute_function(cat_impute)\n",
    "    new_df = num_impute_function(df)\n",
    "    new_df = cat_impute_function(df)\n",
    "    return new_df"
   ]
  },
  {
   "cell_type": "code",
   "execution_count": 14,
   "metadata": {},
   "outputs": [
    {
     "data": {
      "text/plain": [
       "Age                   0\n",
       "Sex                   0\n",
       "Job                   0\n",
       "Housing               0\n",
       "Duration              0\n",
       "Purpose               0\n",
       "Risk                  0\n",
       "Saving_accounts     183\n",
       "Checking_account    394\n",
       "Credit_amount         0\n",
       "dtype: int64"
      ]
     },
     "execution_count": 14,
     "metadata": {},
     "output_type": "execute_result"
    }
   ],
   "source": [
    "data.isna().sum()"
   ]
  },
  {
   "cell_type": "code",
   "execution_count": 15,
   "metadata": {},
   "outputs": [],
   "source": [
    "data = impute_missing_values(data, num_impute, cat_impute)"
   ]
  },
  {
   "cell_type": "code",
   "execution_count": 16,
   "metadata": {},
   "outputs": [
    {
     "data": {
      "text/plain": [
       "Age                 0\n",
       "Sex                 0\n",
       "Job                 0\n",
       "Housing             0\n",
       "Duration            0\n",
       "Purpose             0\n",
       "Risk                0\n",
       "Saving_accounts     0\n",
       "Checking_account    0\n",
       "Credit_amount       0\n",
       "dtype: int64"
      ]
     },
     "execution_count": 16,
     "metadata": {},
     "output_type": "execute_result"
    }
   ],
   "source": [
    "data.isna().sum()"
   ]
  },
  {
   "cell_type": "code",
   "execution_count": 17,
   "metadata": {},
   "outputs": [],
   "source": [
    "# for col in cat_cols:\n",
    "#     data[col] = pd.Categorical(data[col])\n",
    "#     data[col] = data[col].cat.codes"
   ]
  },
  {
   "cell_type": "code",
   "execution_count": 18,
   "metadata": {},
   "outputs": [],
   "source": [
    "data.Risk  = pd.Categorical(data.Risk)\n",
    "data.Risk = data.Risk.cat.codes"
   ]
  },
  {
   "cell_type": "code",
   "execution_count": null,
   "metadata": {},
   "outputs": [],
   "source": [
    "train_df, val_df = train_test_split(data, test_size = 0.2, stratify=data.Risk, random_state = random_state)"
   ]
  },
  {
   "cell_type": "code",
   "execution_count": 17,
   "metadata": {},
   "outputs": [
    {
     "data": {
      "text/plain": [
       "(800, 10)"
      ]
     },
     "execution_count": 17,
     "metadata": {},
     "output_type": "execute_result"
    }
   ],
   "source": [
    "train_df.shape"
   ]
  },
  {
   "cell_type": "code",
   "execution_count": 18,
   "metadata": {},
   "outputs": [
    {
     "data": {
      "text/plain": [
       "Index(['Age', 'Sex', 'Job', 'Housing', 'Duration', 'Purpose', 'Risk',\n",
       "       'Saving_accounts', 'Checking_account', 'Credit_amount'],\n",
       "      dtype='object')"
      ]
     },
     "execution_count": 18,
     "metadata": {},
     "output_type": "execute_result"
    }
   ],
   "source": [
    "data.columns"
   ]
  },
  {
   "cell_type": "code",
   "execution_count": 19,
   "metadata": {},
   "outputs": [],
   "source": [
    "for col in num_cols:\n",
    "    min_ = data[col].min()\n",
    "    data[col] = data[col] - min_\n",
    "    max_ = data[col].max()\n",
    "    data[col] = data[col]/max_\n",
    "    "
   ]
  },
  {
   "cell_type": "code",
   "execution_count": 20,
   "metadata": {},
   "outputs": [
    {
     "data": {
      "text/html": [
       "<div>\n",
       "<style scoped>\n",
       "    .dataframe tbody tr th:only-of-type {\n",
       "        vertical-align: middle;\n",
       "    }\n",
       "\n",
       "    .dataframe tbody tr th {\n",
       "        vertical-align: top;\n",
       "    }\n",
       "\n",
       "    .dataframe thead th {\n",
       "        text-align: right;\n",
       "    }\n",
       "</style>\n",
       "<table border=\"1\" class=\"dataframe\">\n",
       "  <thead>\n",
       "    <tr style=\"text-align: right;\">\n",
       "      <th></th>\n",
       "      <th>Age</th>\n",
       "      <th>Sex</th>\n",
       "      <th>Job</th>\n",
       "      <th>Housing</th>\n",
       "      <th>Duration</th>\n",
       "      <th>Purpose</th>\n",
       "      <th>Risk</th>\n",
       "      <th>Saving_accounts</th>\n",
       "      <th>Checking_account</th>\n",
       "      <th>Credit_amount</th>\n",
       "    </tr>\n",
       "  </thead>\n",
       "  <tbody>\n",
       "    <tr>\n",
       "      <th>0</th>\n",
       "      <td>0.857143</td>\n",
       "      <td>male</td>\n",
       "      <td>skilled</td>\n",
       "      <td>own</td>\n",
       "      <td>0.029412</td>\n",
       "      <td>radio/TV</td>\n",
       "      <td>1</td>\n",
       "      <td>little</td>\n",
       "      <td>little</td>\n",
       "      <td>0.050567</td>\n",
       "    </tr>\n",
       "    <tr>\n",
       "      <th>1</th>\n",
       "      <td>0.053571</td>\n",
       "      <td>female</td>\n",
       "      <td>skilled</td>\n",
       "      <td>own</td>\n",
       "      <td>0.647059</td>\n",
       "      <td>radio/TV</td>\n",
       "      <td>0</td>\n",
       "      <td>little</td>\n",
       "      <td>moderate</td>\n",
       "      <td>0.313690</td>\n",
       "    </tr>\n",
       "    <tr>\n",
       "      <th>2</th>\n",
       "      <td>0.535714</td>\n",
       "      <td>male</td>\n",
       "      <td>unskilled and resident</td>\n",
       "      <td>own</td>\n",
       "      <td>0.117647</td>\n",
       "      <td>education</td>\n",
       "      <td>1</td>\n",
       "      <td>little</td>\n",
       "      <td>little</td>\n",
       "      <td>0.101574</td>\n",
       "    </tr>\n",
       "    <tr>\n",
       "      <th>3</th>\n",
       "      <td>0.464286</td>\n",
       "      <td>male</td>\n",
       "      <td>skilled</td>\n",
       "      <td>free</td>\n",
       "      <td>0.558824</td>\n",
       "      <td>furniture/equipment</td>\n",
       "      <td>1</td>\n",
       "      <td>little</td>\n",
       "      <td>little</td>\n",
       "      <td>0.419941</td>\n",
       "    </tr>\n",
       "    <tr>\n",
       "      <th>4</th>\n",
       "      <td>0.607143</td>\n",
       "      <td>male</td>\n",
       "      <td>skilled</td>\n",
       "      <td>free</td>\n",
       "      <td>0.294118</td>\n",
       "      <td>car</td>\n",
       "      <td>0</td>\n",
       "      <td>little</td>\n",
       "      <td>little</td>\n",
       "      <td>0.254209</td>\n",
       "    </tr>\n",
       "  </tbody>\n",
       "</table>\n",
       "</div>"
      ],
      "text/plain": [
       "        Age     Sex                     Job Housing  Duration  \\\n",
       "0  0.857143    male                 skilled     own  0.029412   \n",
       "1  0.053571  female                 skilled     own  0.647059   \n",
       "2  0.535714    male  unskilled and resident     own  0.117647   \n",
       "3  0.464286    male                 skilled    free  0.558824   \n",
       "4  0.607143    male                 skilled    free  0.294118   \n",
       "\n",
       "               Purpose  Risk Saving_accounts Checking_account  Credit_amount  \n",
       "0             radio/TV     1          little           little       0.050567  \n",
       "1             radio/TV     0          little         moderate       0.313690  \n",
       "2            education     1          little           little       0.101574  \n",
       "3  furniture/equipment     1          little           little       0.419941  \n",
       "4                  car     0          little           little       0.254209  "
      ]
     },
     "execution_count": 20,
     "metadata": {},
     "output_type": "execute_result"
    }
   ],
   "source": [
    "data.head()"
   ]
  },
  {
   "cell_type": "code",
   "execution_count": null,
   "metadata": {},
   "outputs": [],
   "source": []
  },
  {
   "cell_type": "code",
   "execution_count": 21,
   "metadata": {},
   "outputs": [],
   "source": [
    "def df_to_dataset(dataframe, shuffle=True, batch_size=32):\n",
    "    dataframe = dataframe.copy()\n",
    "    labels = dataframe.pop('Risk')\n",
    "    ds = tf.data.Dataset.from_tensor_slices((dict(dataframe), labels))\n",
    "    if shuffle:\n",
    "        ds = ds.shuffle(buffer_size=len(dataframe))\n",
    "    ds = ds.batch(batch_size)\n",
    "    return ds"
   ]
  },
  {
   "cell_type": "code",
   "execution_count": 22,
   "metadata": {},
   "outputs": [],
   "source": [
    "train_ds = df_to_dataset(train_df, batch_size=32)\n",
    "val_ds = df_to_dataset(val_df, shuffle=False, batch_size=32)"
   ]
  },
  {
   "cell_type": "code",
   "execution_count": null,
   "metadata": {},
   "outputs": [],
   "source": []
  },
  {
   "cell_type": "code",
   "execution_count": null,
   "metadata": {},
   "outputs": [],
   "source": []
  },
  {
   "cell_type": "code",
   "execution_count": 23,
   "metadata": {},
   "outputs": [
    {
     "data": {
      "text/plain": [
       "Index(['Age', 'Sex', 'Job', 'Housing', 'Duration', 'Purpose', 'Risk',\n",
       "       'Saving_accounts', 'Checking_account', 'Credit_amount'],\n",
       "      dtype='object')"
      ]
     },
     "execution_count": 23,
     "metadata": {},
     "output_type": "execute_result"
    }
   ],
   "source": [
    "data.columns"
   ]
  },
  {
   "cell_type": "code",
   "execution_count": 24,
   "metadata": {},
   "outputs": [],
   "source": [
    "feature_columns = []\n",
    "\n",
    "# numeric cols\n",
    "for feature in num_cols:\n",
    "    \n",
    "    feature_columns.append(tf.feature_column.numeric_column(feature\n",
    "))"
   ]
  },
  {
   "cell_type": "code",
   "execution_count": 25,
   "metadata": {},
   "outputs": [
    {
     "data": {
      "text/plain": [
       "['Sex', 'Job', 'Housing', 'Saving_accounts', 'Checking_account', 'Purpose']"
      ]
     },
     "execution_count": 25,
     "metadata": {},
     "output_type": "execute_result"
    }
   ],
   "source": [
    "cat_cols"
   ]
  },
  {
   "cell_type": "code",
   "execution_count": 26,
   "metadata": {},
   "outputs": [],
   "source": [
    "for col_name in cat_cols:\n",
    "    cat_column = tf.feature_column.categorical_column_with_vocabulary_list(\n",
    "      col_name, data[col_name].unique())\n",
    "    indicator_column = tf.feature_column.indicator_column(cat_column)\n",
    "    feature_columns.append(indicator_column)"
   ]
  },
  {
   "cell_type": "code",
   "execution_count": 28,
   "metadata": {},
   "outputs": [],
   "source": [
    "# dir(feature_columns[0])"
   ]
  },
  {
   "cell_type": "code",
   "execution_count": 29,
   "metadata": {},
   "outputs": [],
   "source": [
    "feature_layer = tf.keras.layers.DenseFeatures(feature_columns)\n"
   ]
  },
  {
   "cell_type": "code",
   "execution_count": 30,
   "metadata": {},
   "outputs": [],
   "source": [
    "layers = tf.keras.layers"
   ]
  },
  {
   "cell_type": "code",
   "execution_count": 31,
   "metadata": {},
   "outputs": [],
   "source": [
    "model = tf.keras.Sequential([\n",
    "  feature_layer,\n",
    "\n",
    "  layers.Dense(256, activation='relu', kernel_regularizer=\"l2\"),\n",
    "  layers.Dense(1, activation=\"sigmoid\")\n",
    "])\n",
    "\n"
   ]
  },
  {
   "cell_type": "code",
   "execution_count": 32,
   "metadata": {},
   "outputs": [],
   "source": [
    "model.compile(optimizer='adam',\n",
    "              loss=\"binary_crossentropy\",\n",
    "              metrics=['accuracy'])\n",
    "\n"
   ]
  },
  {
   "cell_type": "code",
   "execution_count": 33,
   "metadata": {},
   "outputs": [
    {
     "name": "stdout",
     "output_type": "stream",
     "text": [
      "Epoch 1/100\n",
      "WARNING:tensorflow:Layer dense is casting an input tensor from dtype float32 to the layer's dtype of float64, which is new behavior in TensorFlow 2.  The layer has dtype float64 because it's dtype defaults to floatx.\n",
      "\n",
      "If you intended to run this layer in float64, you can safely ignore this warning. If in doubt, this warning is likely only an issue if you are porting a TensorFlow 1.X model to TensorFlow 2.\n",
      "\n",
      "To change all layers to have dtype float32 by default, call `tf.keras.backend.set_floatx('float32')`. To change just this layer, pass dtype='float32' to the layer constructor. If you are the author of this layer, you can disable autocasting by passing autocast=False to the base Layer constructor.\n",
      "\n",
      "25/25 [==============================] - 1s 24ms/step - loss: 8.9072 - accuracy: 0.5375 - val_loss: 1.2639 - val_accuracy: 0.6000\n",
      "Epoch 2/100\n",
      "25/25 [==============================] - 0s 5ms/step - loss: 3.4377 - accuracy: 0.6025 - val_loss: 3.7864 - val_accuracy: 0.3250\n",
      "Epoch 3/100\n",
      "25/25 [==============================] - 0s 6ms/step - loss: 4.0259 - accuracy: 0.5475 - val_loss: 1.8416 - val_accuracy: 0.5550\n",
      "Epoch 4/100\n",
      "25/25 [==============================] - 0s 4ms/step - loss: 2.9473 - accuracy: 0.5700 - val_loss: 2.5184 - val_accuracy: 0.7000\n",
      "Epoch 5/100\n",
      "25/25 [==============================] - 0s 5ms/step - loss: 2.2350 - accuracy: 0.6388 - val_loss: 1.3149 - val_accuracy: 0.6000\n",
      "Epoch 6/100\n",
      "25/25 [==============================] - 0s 5ms/step - loss: 1.6097 - accuracy: 0.6388 - val_loss: 2.7995 - val_accuracy: 0.3500\n",
      "Epoch 7/100\n",
      "25/25 [==============================] - 0s 5ms/step - loss: 3.6123 - accuracy: 0.5663 - val_loss: 1.6895 - val_accuracy: 0.7000\n",
      "Epoch 8/100\n",
      "25/25 [==============================] - 0s 8ms/step - loss: 2.0864 - accuracy: 0.6012 - val_loss: 1.4727 - val_accuracy: 0.7000\n",
      "Epoch 9/100\n",
      "25/25 [==============================] - 0s 6ms/step - loss: 1.5177 - accuracy: 0.6412 - val_loss: 3.5872 - val_accuracy: 0.7000\n",
      "Epoch 10/100\n",
      "25/25 [==============================] - 0s 5ms/step - loss: 4.4665 - accuracy: 0.5875 - val_loss: 1.1139 - val_accuracy: 0.6050\n",
      "Epoch 11/100\n",
      "25/25 [==============================] - 0s 5ms/step - loss: 1.8319 - accuracy: 0.6288 - val_loss: 4.3118 - val_accuracy: 0.3550\n",
      "Epoch 12/100\n",
      "25/25 [==============================] - 0s 6ms/step - loss: 2.1641 - accuracy: 0.5938 - val_loss: 2.1598 - val_accuracy: 0.7000\n",
      "Epoch 13/100\n",
      "25/25 [==============================] - 0s 4ms/step - loss: 1.9579 - accuracy: 0.6138 - val_loss: 0.8012 - val_accuracy: 0.6650\n",
      "Epoch 14/100\n",
      "25/25 [==============================] - 0s 5ms/step - loss: 3.5195 - accuracy: 0.5775 - val_loss: 2.9792 - val_accuracy: 0.4250\n",
      "Epoch 15/100\n",
      "25/25 [==============================] - 0s 5ms/step - loss: 2.2331 - accuracy: 0.6062 - val_loss: 1.1778 - val_accuracy: 0.6050\n",
      "Epoch 16/100\n",
      "25/25 [==============================] - 0s 5ms/step - loss: 2.4812 - accuracy: 0.6125 - val_loss: 1.3191 - val_accuracy: 0.5950\n",
      "Epoch 17/100\n",
      "25/25 [==============================] - 0s 5ms/step - loss: 4.2543 - accuracy: 0.5663 - val_loss: 9.3835 - val_accuracy: 0.7000\n",
      "Epoch 18/100\n",
      "25/25 [==============================] - 0s 6ms/step - loss: 5.0108 - accuracy: 0.5938 - val_loss: 1.6262 - val_accuracy: 0.6000\n",
      "Epoch 19/100\n",
      "25/25 [==============================] - 0s 5ms/step - loss: 1.4938 - accuracy: 0.6600 - val_loss: 1.2524 - val_accuracy: 0.7150\n",
      "Epoch 20/100\n",
      "25/25 [==============================] - 0s 5ms/step - loss: 1.9343 - accuracy: 0.6450 - val_loss: 3.2489 - val_accuracy: 0.7000\n",
      "Epoch 21/100\n",
      "25/25 [==============================] - 0s 7ms/step - loss: 4.0379 - accuracy: 0.5775 - val_loss: 3.3515 - val_accuracy: 0.7000\n",
      "Epoch 22/100\n",
      "25/25 [==============================] - 0s 5ms/step - loss: 2.5834 - accuracy: 0.6125 - val_loss: 1.8058 - val_accuracy: 0.7100\n",
      "Epoch 23/100\n",
      "25/25 [==============================] - 0s 5ms/step - loss: 2.0522 - accuracy: 0.6175 - val_loss: 1.9702 - val_accuracy: 0.7100\n",
      "Epoch 24/100\n",
      "25/25 [==============================] - 0s 4ms/step - loss: 1.9521 - accuracy: 0.6312 - val_loss: 0.8935 - val_accuracy: 0.6300\n",
      "Epoch 25/100\n",
      "25/25 [==============================] - 0s 4ms/step - loss: 1.1170 - accuracy: 0.6775 - val_loss: 1.2917 - val_accuracy: 0.7100\n",
      "Epoch 26/100\n",
      "25/25 [==============================] - 0s 5ms/step - loss: 1.5507 - accuracy: 0.6400 - val_loss: 5.0437 - val_accuracy: 0.7000\n",
      "Epoch 27/100\n",
      "25/25 [==============================] - 0s 5ms/step - loss: 2.5391 - accuracy: 0.6300 - val_loss: 0.8293 - val_accuracy: 0.6650\n",
      "Epoch 28/100\n",
      "25/25 [==============================] - 0s 7ms/step - loss: 2.3130 - accuracy: 0.6162 - val_loss: 1.8732 - val_accuracy: 0.7050\n",
      "Epoch 29/100\n",
      "25/25 [==============================] - 0s 5ms/step - loss: 1.6549 - accuracy: 0.6575 - val_loss: 6.7785 - val_accuracy: 0.3250\n",
      "Epoch 30/100\n",
      "25/25 [==============================] - 0s 6ms/step - loss: 5.6224 - accuracy: 0.5813 - val_loss: 2.6025 - val_accuracy: 0.7000\n",
      "Epoch 31/100\n",
      "25/25 [==============================] - 0s 6ms/step - loss: 2.2561 - accuracy: 0.6125 - val_loss: 3.1546 - val_accuracy: 0.7000\n",
      "Epoch 32/100\n",
      "25/25 [==============================] - 0s 5ms/step - loss: 2.3314 - accuracy: 0.6438 - val_loss: 0.7562 - val_accuracy: 0.6800\n",
      "Epoch 33/100\n",
      "25/25 [==============================] - 0s 3ms/step - loss: 1.7543 - accuracy: 0.6375 - val_loss: 1.2754 - val_accuracy: 0.5800\n",
      "Epoch 34/100\n",
      "25/25 [==============================] - 0s 3ms/step - loss: 1.4157 - accuracy: 0.6312 - val_loss: 0.9607 - val_accuracy: 0.6900\n",
      "Epoch 35/100\n",
      "25/25 [==============================] - 0s 4ms/step - loss: 1.8545 - accuracy: 0.6350 - val_loss: 2.8021 - val_accuracy: 0.4250\n",
      "Epoch 36/100\n",
      "25/25 [==============================] - 0s 4ms/step - loss: 1.6253 - accuracy: 0.6300 - val_loss: 3.6115 - val_accuracy: 0.7000\n",
      "Epoch 37/100\n",
      "25/25 [==============================] - 0s 8ms/step - loss: 1.2765 - accuracy: 0.6388 - val_loss: 1.0902 - val_accuracy: 0.7150\n",
      "Epoch 38/100\n",
      "25/25 [==============================] - 0s 6ms/step - loss: 1.8086 - accuracy: 0.6412 - val_loss: 3.5672 - val_accuracy: 0.7000\n",
      "Epoch 39/100\n",
      "25/25 [==============================] - 0s 4ms/step - loss: 2.9525 - accuracy: 0.5887 - val_loss: 3.3970 - val_accuracy: 0.7000\n",
      "Epoch 40/100\n",
      "25/25 [==============================] - 0s 5ms/step - loss: 3.1406 - accuracy: 0.6050 - val_loss: 2.6188 - val_accuracy: 0.4700\n",
      "Epoch 41/100\n",
      "25/25 [==============================] - 0s 5ms/step - loss: 1.7407 - accuracy: 0.6625 - val_loss: 7.1135 - val_accuracy: 0.3200\n",
      "Epoch 42/100\n",
      "25/25 [==============================] - 0s 8ms/step - loss: 6.5697 - accuracy: 0.5675 - val_loss: 11.1226 - val_accuracy: 0.7000\n",
      "Epoch 43/100\n",
      "25/25 [==============================] - 0s 5ms/step - loss: 4.0564 - accuracy: 0.5900 - val_loss: 1.0155 - val_accuracy: 0.6550\n",
      "Epoch 44/100\n",
      "25/25 [==============================] - 0s 6ms/step - loss: 2.8311 - accuracy: 0.6300 - val_loss: 4.5691 - val_accuracy: 0.3450\n",
      "Epoch 45/100\n",
      "25/25 [==============================] - 0s 8ms/step - loss: 3.4495 - accuracy: 0.5825 - val_loss: 5.3482 - val_accuracy: 0.7000\n",
      "Epoch 46/100\n",
      "25/25 [==============================] - 0s 4ms/step - loss: 2.2298 - accuracy: 0.6062 - val_loss: 1.5706 - val_accuracy: 0.5750\n",
      "Epoch 47/100\n",
      "25/25 [==============================] - 0s 7ms/step - loss: 1.4969 - accuracy: 0.6175 - val_loss: 2.5511 - val_accuracy: 0.7000\n",
      "Epoch 48/100\n",
      "25/25 [==============================] - 0s 4ms/step - loss: 2.5591 - accuracy: 0.6388 - val_loss: 7.6410 - val_accuracy: 0.7000\n",
      "Epoch 49/100\n",
      "25/25 [==============================] - 0s 5ms/step - loss: 1.8530 - accuracy: 0.6575 - val_loss: 2.6782 - val_accuracy: 0.7000\n",
      "Epoch 50/100\n",
      "25/25 [==============================] - 0s 6ms/step - loss: 1.4301 - accuracy: 0.6338 - val_loss: 2.1917 - val_accuracy: 0.7050\n",
      "Epoch 51/100\n",
      "25/25 [==============================] - 0s 6ms/step - loss: 1.4901 - accuracy: 0.6587 - val_loss: 2.4168 - val_accuracy: 0.7000\n",
      "Epoch 52/100\n",
      "25/25 [==============================] - 0s 6ms/step - loss: 2.0346 - accuracy: 0.6112 - val_loss: 1.6807 - val_accuracy: 0.7050\n",
      "Epoch 53/100\n",
      "25/25 [==============================] - 0s 5ms/step - loss: 1.8007 - accuracy: 0.6288 - val_loss: 2.1168 - val_accuracy: 0.7000\n"
     ]
    },
    {
     "name": "stdout",
     "output_type": "stream",
     "text": [
      "Epoch 54/100\n",
      "25/25 [==============================] - 0s 5ms/step - loss: 1.4619 - accuracy: 0.6338 - val_loss: 0.7564 - val_accuracy: 0.6600\n",
      "Epoch 55/100\n",
      "25/25 [==============================] - 0s 6ms/step - loss: 1.6680 - accuracy: 0.6350 - val_loss: 1.4912 - val_accuracy: 0.7100\n",
      "Epoch 56/100\n",
      "25/25 [==============================] - 0s 7ms/step - loss: 1.9743 - accuracy: 0.6687 - val_loss: 2.0455 - val_accuracy: 0.4650\n",
      "Epoch 57/100\n",
      "25/25 [==============================] - 0s 7ms/step - loss: 1.5249 - accuracy: 0.6262 - val_loss: 1.0097 - val_accuracy: 0.7200\n",
      "Epoch 58/100\n",
      "25/25 [==============================] - 0s 6ms/step - loss: 1.4724 - accuracy: 0.6538 - val_loss: 1.3221 - val_accuracy: 0.7100\n",
      "Epoch 59/100\n",
      "25/25 [==============================] - 0s 6ms/step - loss: 1.9211 - accuracy: 0.6275 - val_loss: 3.9516 - val_accuracy: 0.7000\n",
      "Epoch 60/100\n",
      "25/25 [==============================] - 0s 5ms/step - loss: 5.2190 - accuracy: 0.6250 - val_loss: 7.3808 - val_accuracy: 0.3250\n",
      "Epoch 61/100\n",
      "25/25 [==============================] - 0s 5ms/step - loss: 4.2675 - accuracy: 0.5825 - val_loss: 1.0611 - val_accuracy: 0.7200\n",
      "Epoch 62/100\n",
      "25/25 [==============================] - 0s 5ms/step - loss: 3.0818 - accuracy: 0.6038 - val_loss: 1.6399 - val_accuracy: 0.6000\n",
      "Epoch 63/100\n",
      "25/25 [==============================] - 0s 7ms/step - loss: 4.9398 - accuracy: 0.6150 - val_loss: 2.6419 - val_accuracy: 0.7000\n",
      "Epoch 64/100\n",
      "25/25 [==============================] - 0s 6ms/step - loss: 4.6583 - accuracy: 0.6062 - val_loss: 0.9219 - val_accuracy: 0.6650\n",
      "Epoch 65/100\n",
      "25/25 [==============================] - 0s 6ms/step - loss: 1.4434 - accuracy: 0.6875 - val_loss: 3.1984 - val_accuracy: 0.7000\n",
      "Epoch 66/100\n",
      "25/25 [==============================] - 0s 6ms/step - loss: 2.4036 - accuracy: 0.6012 - val_loss: 7.7746 - val_accuracy: 0.7000\n",
      "Epoch 67/100\n",
      "25/25 [==============================] - 0s 7ms/step - loss: 4.5140 - accuracy: 0.5713 - val_loss: 8.9736 - val_accuracy: 0.7000\n",
      "Epoch 68/100\n",
      "25/25 [==============================] - 0s 5ms/step - loss: 6.7582 - accuracy: 0.5925 - val_loss: 5.7440 - val_accuracy: 0.3800\n",
      "Epoch 69/100\n",
      "25/25 [==============================] - 0s 11ms/step - loss: 4.5727 - accuracy: 0.6438 - val_loss: 7.1195 - val_accuracy: 0.3400\n",
      "Epoch 70/100\n",
      "25/25 [==============================] - 0s 8ms/step - loss: 8.1694 - accuracy: 0.5387 - val_loss: 4.6251 - val_accuracy: 0.7000\n",
      "Epoch 71/100\n",
      "25/25 [==============================] - 0s 7ms/step - loss: 4.5400 - accuracy: 0.6238 - val_loss: 3.2468 - val_accuracy: 0.5100\n",
      "Epoch 72/100\n",
      "25/25 [==============================] - 0s 8ms/step - loss: 2.9892 - accuracy: 0.6512 - val_loss: 1.2959 - val_accuracy: 0.6000\n",
      "Epoch 73/100\n",
      "25/25 [==============================] - 0s 8ms/step - loss: 1.6667 - accuracy: 0.6488 - val_loss: 2.0114 - val_accuracy: 0.5000\n",
      "Epoch 74/100\n",
      "25/25 [==============================] - 0s 4ms/step - loss: 1.1983 - accuracy: 0.6587 - val_loss: 0.9310 - val_accuracy: 0.6250\n",
      "Epoch 75/100\n",
      "25/25 [==============================] - 0s 8ms/step - loss: 2.6373 - accuracy: 0.6175 - val_loss: 1.9826 - val_accuracy: 0.7050\n",
      "Epoch 76/100\n",
      "25/25 [==============================] - 0s 6ms/step - loss: 1.2753 - accuracy: 0.6625 - val_loss: 1.3180 - val_accuracy: 0.7050\n",
      "Epoch 77/100\n",
      "25/25 [==============================] - 0s 7ms/step - loss: 1.3821 - accuracy: 0.6625 - val_loss: 2.1273 - val_accuracy: 0.5000\n",
      "Epoch 78/100\n",
      "25/25 [==============================] - 0s 6ms/step - loss: 1.5733 - accuracy: 0.6062 - val_loss: 2.4188 - val_accuracy: 0.7000\n",
      "Epoch 79/100\n",
      "25/25 [==============================] - 0s 5ms/step - loss: 1.0328 - accuracy: 0.6963 - val_loss: 1.3956 - val_accuracy: 0.7050\n",
      "Epoch 80/100\n",
      "25/25 [==============================] - 0s 6ms/step - loss: 3.0148 - accuracy: 0.6125 - val_loss: 5.7032 - val_accuracy: 0.7000\n",
      "Epoch 81/100\n",
      "25/25 [==============================] - 0s 7ms/step - loss: 3.4667 - accuracy: 0.6212 - val_loss: 1.1819 - val_accuracy: 0.7150\n",
      "Epoch 82/100\n",
      "25/25 [==============================] - 0s 7ms/step - loss: 1.2850 - accuracy: 0.6500 - val_loss: 3.3388 - val_accuracy: 0.7000\n",
      "Epoch 83/100\n",
      "25/25 [==============================] - 0s 6ms/step - loss: 3.2431 - accuracy: 0.6175 - val_loss: 4.0823 - val_accuracy: 0.3800\n",
      "Epoch 84/100\n",
      "25/25 [==============================] - 0s 7ms/step - loss: 2.5634 - accuracy: 0.6462 - val_loss: 2.4041 - val_accuracy: 0.6950\n",
      "Epoch 85/100\n",
      "25/25 [==============================] - 0s 7ms/step - loss: 2.5743 - accuracy: 0.6062 - val_loss: 4.2371 - val_accuracy: 0.7000\n",
      "Epoch 86/100\n",
      "25/25 [==============================] - 0s 9ms/step - loss: 3.8056 - accuracy: 0.6125 - val_loss: 7.8742 - val_accuracy: 0.7000\n",
      "Epoch 87/100\n",
      "25/25 [==============================] - 0s 9ms/step - loss: 4.4643 - accuracy: 0.5950 - val_loss: 3.4098 - val_accuracy: 0.7000\n",
      "Epoch 88/100\n",
      "25/25 [==============================] - 0s 5ms/step - loss: 2.8117 - accuracy: 0.6400 - val_loss: 2.0098 - val_accuracy: 0.7000\n",
      "Epoch 89/100\n",
      "25/25 [==============================] - 0s 7ms/step - loss: 1.7627 - accuracy: 0.6500 - val_loss: 2.2915 - val_accuracy: 0.7000\n",
      "Epoch 90/100\n",
      "25/25 [==============================] - 0s 9ms/step - loss: 2.7115 - accuracy: 0.5913 - val_loss: 5.0440 - val_accuracy: 0.7000\n",
      "Epoch 91/100\n",
      "25/25 [==============================] - 0s 7ms/step - loss: 3.8573 - accuracy: 0.5863 - val_loss: 2.1130 - val_accuracy: 0.7000\n",
      "Epoch 92/100\n",
      "25/25 [==============================] - 0s 5ms/step - loss: 3.7942 - accuracy: 0.6075 - val_loss: 1.6227 - val_accuracy: 0.7050\n",
      "Epoch 93/100\n",
      "25/25 [==============================] - 0s 5ms/step - loss: 1.2309 - accuracy: 0.6650 - val_loss: 2.7467 - val_accuracy: 0.7000\n",
      "Epoch 94/100\n",
      "25/25 [==============================] - 0s 7ms/step - loss: 1.6587 - accuracy: 0.6262 - val_loss: 1.8907 - val_accuracy: 0.5500\n",
      "Epoch 95/100\n",
      "25/25 [==============================] - 0s 5ms/step - loss: 2.5001 - accuracy: 0.6000 - val_loss: 1.1036 - val_accuracy: 0.6100\n",
      "Epoch 96/100\n",
      "25/25 [==============================] - 0s 4ms/step - loss: 3.1977 - accuracy: 0.6200 - val_loss: 6.0716 - val_accuracy: 0.7000\n",
      "Epoch 97/100\n",
      "25/25 [==============================] - 0s 5ms/step - loss: 3.8804 - accuracy: 0.5950 - val_loss: 3.2462 - val_accuracy: 0.7000\n",
      "Epoch 98/100\n",
      "25/25 [==============================] - 0s 4ms/step - loss: 3.7908 - accuracy: 0.6050 - val_loss: 1.5407 - val_accuracy: 0.5900\n",
      "Epoch 99/100\n",
      "25/25 [==============================] - 0s 6ms/step - loss: 2.0718 - accuracy: 0.6262 - val_loss: 1.7696 - val_accuracy: 0.5700\n",
      "Epoch 100/100\n",
      "25/25 [==============================] - 0s 5ms/step - loss: 1.6244 - accuracy: 0.6238 - val_loss: 4.8479 - val_accuracy: 0.7000\n"
     ]
    },
    {
     "data": {
      "text/plain": [
       "<tensorflow.python.keras.callbacks.History at 0x7f6d181a59b0>"
      ]
     },
     "execution_count": 33,
     "metadata": {},
     "output_type": "execute_result"
    }
   ],
   "source": [
    "model.fit(train_ds,\n",
    "          validation_data=val_ds,\n",
    "          epochs=100)"
   ]
  },
  {
   "cell_type": "code",
   "execution_count": 33,
   "metadata": {},
   "outputs": [
    {
     "data": {
      "text/plain": [
       "[NumericColumn(key='Age', shape=(1,), default_value=None, dtype=tf.float32, normalizer_fn=None),\n",
       " NumericColumn(key='Credit_amount', shape=(1,), default_value=None, dtype=tf.float32, normalizer_fn=None),\n",
       " NumericColumn(key='Duration', shape=(1,), default_value=None, dtype=tf.float32, normalizer_fn=None),\n",
       " IndicatorColumn(categorical_column=VocabularyListCategoricalColumn(key='Sex', vocabulary_list=('male', 'female'), dtype=tf.string, default_value=-1, num_oov_buckets=0)),\n",
       " IndicatorColumn(categorical_column=VocabularyListCategoricalColumn(key='Job', vocabulary_list=('skilled', 'unskilled and resident', 'highly skilled', 'unskilled and non-resident'), dtype=tf.string, default_value=-1, num_oov_buckets=0)),\n",
       " IndicatorColumn(categorical_column=VocabularyListCategoricalColumn(key='Housing', vocabulary_list=('own', 'free', 'rent'), dtype=tf.string, default_value=-1, num_oov_buckets=0)),\n",
       " IndicatorColumn(categorical_column=VocabularyListCategoricalColumn(key='Saving_accounts', vocabulary_list=('little', 'quite rich', 'rich', 'moderate'), dtype=tf.string, default_value=-1, num_oov_buckets=0)),\n",
       " IndicatorColumn(categorical_column=VocabularyListCategoricalColumn(key='Checking_account', vocabulary_list=('little', 'moderate', 'rich'), dtype=tf.string, default_value=-1, num_oov_buckets=0)),\n",
       " IndicatorColumn(categorical_column=VocabularyListCategoricalColumn(key='Purpose', vocabulary_list=('radio/TV', 'education', 'furniture/equipment', 'car', 'business', 'domestic appliances', 'repairs', 'vacation/others'), dtype=tf.string, default_value=-1, num_oov_buckets=0))]"
      ]
     },
     "execution_count": 33,
     "metadata": {},
     "output_type": "execute_result"
    }
   ],
   "source": [
    "feature_columns"
   ]
  },
  {
   "cell_type": "code",
   "execution_count": null,
   "metadata": {},
   "outputs": [],
   "source": []
  }
 ],
 "metadata": {
  "kernelspec": {
   "display_name": "Python [conda env:tesf-env] *",
   "language": "python",
   "name": "conda-env-tesf-env-py"
  },
  "language_info": {
   "codemirror_mode": {
    "name": "ipython",
    "version": 3
   },
   "file_extension": ".py",
   "mimetype": "text/x-python",
   "name": "python",
   "nbconvert_exporter": "python",
   "pygments_lexer": "ipython3",
   "version": "3.6.12"
  }
 },
 "nbformat": 4,
 "nbformat_minor": 4
}
